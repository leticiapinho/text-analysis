{
 "cells": [
  {
   "cell_type": "code",
   "execution_count": null,
   "metadata": {},
   "outputs": [
    {
     "ename": "",
     "evalue": "",
     "output_type": "error",
     "traceback": [
      "\u001b[1;31mFalha ao iniciar o Kernel. \n",
      "\u001b[1;31mNão é possível iniciar o Kernel \"text_analysis (Python 3.8.13)\" devido ao tempo limite da conexão. \n",
      "\u001b[1;31mConsulte o <a href='command:jupyter.viewOutput'>log</a> do Jupyter para obter mais detalhes."
     ]
    }
   ],
   "source": [
    "# Import das bibliotecas utilizadas no projeto\n",
    "\n",
    "import pandas as pd\n",
    "import numpy as np\n",
    "import nltk"
   ]
  },
  {
   "cell_type": "code",
   "execution_count": 21,
   "metadata": {},
   "outputs": [],
   "source": [
    "# Import dos dados que serão analisados\n",
    "\n",
    "df = pd.read_excel(r\"data\\dados_funks.xlsx\", usecols=['Nº da ficha:', 'Título da música:', 'Canal:',\n",
    "       'Nº de visualizações:', 'Nº de inscritos:', 'Data de publicação', 'MC:','DJ:', 'Duração:', \n",
    "       'Estado:', 'Cidade:', 'Observações:', 'Link:','Data de catalogação', 'Transcrição:'])"
   ]
  },
  {
   "cell_type": "markdown",
   "metadata": {},
   "source": [
    "### Análise exploratória dos dados"
   ]
  },
  {
   "cell_type": "code",
   "execution_count": 22,
   "metadata": {},
   "outputs": [
    {
     "data": {
      "text/html": [
       "<div>\n",
       "<style scoped>\n",
       "    .dataframe tbody tr th:only-of-type {\n",
       "        vertical-align: middle;\n",
       "    }\n",
       "\n",
       "    .dataframe tbody tr th {\n",
       "        vertical-align: top;\n",
       "    }\n",
       "\n",
       "    .dataframe thead th {\n",
       "        text-align: right;\n",
       "    }\n",
       "</style>\n",
       "<table border=\"1\" class=\"dataframe\">\n",
       "  <thead>\n",
       "    <tr style=\"text-align: right;\">\n",
       "      <th></th>\n",
       "      <th>Nº da ficha:</th>\n",
       "      <th>Título da música:</th>\n",
       "      <th>Canal:</th>\n",
       "      <th>Nº de visualizações:</th>\n",
       "      <th>Nº de inscritos:</th>\n",
       "      <th>Data de publicação</th>\n",
       "      <th>MC:</th>\n",
       "      <th>DJ:</th>\n",
       "      <th>Duração:</th>\n",
       "      <th>Estado:</th>\n",
       "      <th>Cidade:</th>\n",
       "      <th>Observações:</th>\n",
       "      <th>Link:</th>\n",
       "      <th>Data de catalogação</th>\n",
       "      <th>Transcrição:</th>\n",
       "    </tr>\n",
       "  </thead>\n",
       "  <tbody>\n",
       "    <tr>\n",
       "      <th>0</th>\n",
       "      <td>1</td>\n",
       "      <td>Pela 1 vez juntos :: MC`S. Menor do Chapa e Ma...</td>\n",
       "      <td>Roda de Funk Original</td>\n",
       "      <td>240937.0</td>\n",
       "      <td>695998.0</td>\n",
       "      <td>2014-04-28 00:00:00</td>\n",
       "      <td>Menor do Chapa e Mazinho</td>\n",
       "      <td>NaN</td>\n",
       "      <td>11:01:00</td>\n",
       "      <td>Rio de Janeiro</td>\n",
       "      <td>Rio de Janeiro</td>\n",
       "      <td>•\\tA MC Novinha é uma das poucas mulheres que ...</td>\n",
       "      <td>https://www.youtube.com/watch?v=Try7PPLOzKg</td>\n",
       "      <td>2017-11-12</td>\n",
       "      <td>1.\\tMC Novinha: - Nós somos PCM porque temos d...</td>\n",
       "    </tr>\n",
       "    <tr>\n",
       "      <th>1</th>\n",
       "      <td>2</td>\n",
       "      <td>Mc sadrak Papo reto bonde dos 40 pedrinhas</td>\n",
       "      <td>lucas Sousa</td>\n",
       "      <td>95042.0</td>\n",
       "      <td>892.0</td>\n",
       "      <td>2014-08-01 00:00:00</td>\n",
       "      <td>Sadrak</td>\n",
       "      <td>NaN</td>\n",
       "      <td>02:50:00</td>\n",
       "      <td>Maranhão</td>\n",
       "      <td>São Luís</td>\n",
       "      <td>NaN</td>\n",
       "      <td>https://www.youtube.com/watch?v=O4QaVkn6zik  E...</td>\n",
       "      <td>2017-12-19</td>\n",
       "      <td>Se for falar que é cv no jura nao pode mais\\n\\...</td>\n",
       "    </tr>\n",
       "    <tr>\n",
       "      <th>2</th>\n",
       "      <td>3</td>\n",
       "      <td>Bonde dos 40 :::: Mc Sadrak ((Sonho de Liberda...</td>\n",
       "      <td>Conexão  B.40</td>\n",
       "      <td>3938.0</td>\n",
       "      <td>3400.0</td>\n",
       "      <td>2016-05-26 00:00:00</td>\n",
       "      <td>Sadrak</td>\n",
       "      <td>não informado</td>\n",
       "      <td>03:39:00</td>\n",
       "      <td>Maranhão</td>\n",
       "      <td>São Luís</td>\n",
       "      <td>•\\t“Nós já nascemo pecando/ Tu já sabe como é ...</td>\n",
       "      <td>https://www.youtube.com/watch?v=XN2zGJ4SDKY  E...</td>\n",
       "      <td>2017-12-19</td>\n",
       "      <td>Só soldado preparado no Jacaré\\n\\nChamada jorn...</td>\n",
       "    </tr>\n",
       "  </tbody>\n",
       "</table>\n",
       "</div>"
      ],
      "text/plain": [
       "   Nº da ficha:                                  Título da música:  \\\n",
       "0             1  Pela 1 vez juntos :: MC`S. Menor do Chapa e Ma...   \n",
       "1             2         Mc sadrak Papo reto bonde dos 40 pedrinhas   \n",
       "2             3  Bonde dos 40 :::: Mc Sadrak ((Sonho de Liberda...   \n",
       "\n",
       "                  Canal:  Nº de visualizações:  Nº de inscritos:  \\\n",
       "0  Roda de Funk Original              240937.0          695998.0   \n",
       "1            lucas Sousa               95042.0             892.0   \n",
       "2          Conexão  B.40                3938.0            3400.0   \n",
       "\n",
       "    Data de publicação                       MC:            DJ:  Duração:  \\\n",
       "0  2014-04-28 00:00:00  Menor do Chapa e Mazinho            NaN  11:01:00   \n",
       "1  2014-08-01 00:00:00                    Sadrak            NaN  02:50:00   \n",
       "2  2016-05-26 00:00:00                    Sadrak  não informado  03:39:00   \n",
       "\n",
       "          Estado:         Cidade:  \\\n",
       "0  Rio de Janeiro  Rio de Janeiro   \n",
       "1        Maranhão        São Luís   \n",
       "2        Maranhão        São Luís   \n",
       "\n",
       "                                        Observações:  \\\n",
       "0  •\\tA MC Novinha é uma das poucas mulheres que ...   \n",
       "1                                                NaN   \n",
       "2  •\\t“Nós já nascemo pecando/ Tu já sabe como é ...   \n",
       "\n",
       "                                               Link: Data de catalogação  \\\n",
       "0        https://www.youtube.com/watch?v=Try7PPLOzKg          2017-11-12   \n",
       "1  https://www.youtube.com/watch?v=O4QaVkn6zik  E...          2017-12-19   \n",
       "2  https://www.youtube.com/watch?v=XN2zGJ4SDKY  E...          2017-12-19   \n",
       "\n",
       "                                        Transcrição:  \n",
       "0  1.\\tMC Novinha: - Nós somos PCM porque temos d...  \n",
       "1  Se for falar que é cv no jura nao pode mais\\n\\...  \n",
       "2  Só soldado preparado no Jacaré\\n\\nChamada jorn...  "
      ]
     },
     "execution_count": 22,
     "metadata": {},
     "output_type": "execute_result"
    }
   ],
   "source": [
    "df.head(3)"
   ]
  },
  {
   "cell_type": "code",
   "execution_count": 23,
   "metadata": {},
   "outputs": [
    {
     "data": {
      "text/plain": [
       "(120, 15)"
      ]
     },
     "execution_count": 23,
     "metadata": {},
     "output_type": "execute_result"
    }
   ],
   "source": [
    "df.shape"
   ]
  },
  {
   "cell_type": "code",
   "execution_count": 24,
   "metadata": {},
   "outputs": [
    {
     "data": {
      "text/plain": [
       "Index(['Nº da ficha:', 'Título da música:', 'Canal:', 'Nº de visualizações:',\n",
       "       'Nº de inscritos:', 'Data de publicação', 'MC:', 'DJ:', 'Duração:',\n",
       "       'Estado:', 'Cidade:', 'Observações:', 'Link:', 'Data de catalogação',\n",
       "       'Transcrição:'],\n",
       "      dtype='object')"
      ]
     },
     "execution_count": 24,
     "metadata": {},
     "output_type": "execute_result"
    }
   ],
   "source": [
    "df.columns"
   ]
  },
  {
   "cell_type": "code",
   "execution_count": 26,
   "metadata": {},
   "outputs": [
    {
     "data": {
      "text/plain": [
       "não informado                18\n",
       "Moskito                       9\n",
       "Sadrak                        9\n",
       "Segal                         5\n",
       "Dia JP                        4\n",
       "                             ..\n",
       "DD                            1\n",
       " Latrozinho                   1\n",
       "Selinho e (?)                 1\n",
       "Claudio e Ratinho             1\n",
       "Menor do Chapa e Pedrinho     1\n",
       "Name: MC:, Length: 64, dtype: int64"
      ]
     },
     "execution_count": 26,
     "metadata": {},
     "output_type": "execute_result"
    }
   ],
   "source": [
    "df['MC:'].value_counts()"
   ]
  },
  {
   "cell_type": "code",
   "execution_count": 29,
   "metadata": {},
   "outputs": [
    {
     "data": {
      "text/plain": [
       "Maranhão               75\n",
       "Rio de Janeiro         19\n",
       "São Paulo               5\n",
       "Paraíba                 3\n",
       "Amazonas                3\n",
       "Rio Grande do Sul       3\n",
       "Ceará                   3\n",
       "Bahia                   2\n",
       "Santa Catarina          2\n",
       "Interestadual           2\n",
       "Rio Grande do Norte     1\n",
       "Acre                    1\n",
       "Mato Grosso             1\n",
       "Name: Estado:, dtype: int64"
      ]
     },
     "execution_count": 29,
     "metadata": {},
     "output_type": "execute_result"
    }
   ],
   "source": [
    "df['Estado:'].value_counts()"
   ]
  },
  {
   "cell_type": "code",
   "execution_count": 31,
   "metadata": {},
   "outputs": [
    {
     "data": {
      "text/plain": [
       "São Luís               71\n",
       "Rio de Janeiro         18\n",
       "São Paulo               6\n",
       "Manaus                  3\n",
       "Intercidades            3\n",
       "João Pessoa             3\n",
       "Salvador                2\n",
       "Fortaleza               2\n",
       "Florianópolis           2\n",
       "Natal                   1\n",
       "Porto Alegre            1\n",
       "São José de Ribamar     1\n",
       "Rio Branco              1\n",
       "Caucaia                 1\n",
       "Cuiabá                  1\n",
       "Paço do Lumiar          1\n",
       "Pindaré                 1\n",
       "Niterói                 1\n",
       "São Gonçalo             1\n",
       "Name: Cidade:, dtype: int64"
      ]
     },
     "execution_count": 31,
     "metadata": {},
     "output_type": "execute_result"
    }
   ],
   "source": [
    "df['Cidade:'].value_counts()"
   ]
  },
  {
   "cell_type": "markdown",
   "metadata": {},
   "source": [
    "### Limpeza e processamento"
   ]
  },
  {
   "cell_type": "code",
   "execution_count": 32,
   "metadata": {},
   "outputs": [
    {
     "data": {
      "text/plain": [
       "Index(['Nº da ficha:', 'Título da música:', 'Canal:', 'Nº de visualizações:',\n",
       "       'Nº de inscritos:', 'Data de publicação', 'MC:', 'DJ:', 'Duração:',\n",
       "       'Estado:', 'Cidade:', 'Observações:', 'Link:', 'Data de catalogação',\n",
       "       'Transcrição:'],\n",
       "      dtype='object')"
      ]
     },
     "execution_count": 32,
     "metadata": {},
     "output_type": "execute_result"
    }
   ],
   "source": [
    "df.columns"
   ]
  },
  {
   "cell_type": "code",
   "execution_count": 33,
   "metadata": {},
   "outputs": [],
   "source": [
    "# Convertendo todas as transcrições para letras minúsculas\n",
    "\n",
    "df['Transcrição:'] = df['Transcrição:'].str.lower()"
   ]
  },
  {
   "cell_type": "code",
   "execution_count": 34,
   "metadata": {},
   "outputs": [],
   "source": [
    "# Eliminação de espaços vazios\n",
    "\n",
    "df['Transcrição:'] = df['Transcrição:'].str.strip()"
   ]
  },
  {
   "cell_type": "code",
   "execution_count": null,
   "metadata": {},
   "outputs": [],
   "source": []
  }
 ],
 "metadata": {
  "kernelspec": {
   "display_name": "Python 3.8.13 ('text_analysis')",
   "language": "python",
   "name": "python3"
  },
  "language_info": {
   "codemirror_mode": {
    "name": "ipython",
    "version": 3
   },
   "file_extension": ".py",
   "mimetype": "text/x-python",
   "name": "python",
   "nbconvert_exporter": "python",
   "pygments_lexer": "ipython3",
   "version": "3.8.13"
  },
  "orig_nbformat": 4,
  "vscode": {
   "interpreter": {
    "hash": "e3ee68468e2c72b23882e9e8334ecc1578d148d22499900a21258691cdd6df6d"
   }
  }
 },
 "nbformat": 4,
 "nbformat_minor": 2
}
